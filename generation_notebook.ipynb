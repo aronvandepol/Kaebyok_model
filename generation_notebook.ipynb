{
 "cells": [
  {
   "cell_type": "code",
   "execution_count": null,
   "metadata": {},
   "outputs": [],
   "source": [
    "from diffusers import StableDiffusionPipeline, DPMSolverMultistepScheduler\n",
    "import torch\n",
    "\n",
    "def imagegeneration(prompt:str, filename:str, guidancescale:float=7.5, num_steps:int=50):\n",
    "    \"\"\"\n",
    "    A function that generates an image based on a given prompt using the Stable Diffusion 2.1 model.\n",
    "\n",
    "    Parameters:\n",
    "    -----------\n",
    "    prompt : str\n",
    "        The prompt for the image generation. This should be a short piece of text describing what kind of image is desired.\n",
    "    filename : str\n",
    "        The name of the file to save the generated image to (without the file extension).\n",
    "    guidancescale : float, optional\n",
    "        The scale of the guidance used during the image generation process. Higher values result in more precise but less diverse images (default is 7.5).\n",
    "    num_steps : int, optional\n",
    "        The number of inference steps used during the image generation process. Higher values result in more detailed images but longer generation times (default is 50).\n",
    "\n",
    "    Returns:\n",
    "    --------\n",
    "    image : PIL.Image\n",
    "        The generated image as a PIL Image object.\n",
    "    \"\"\"\n",
    "    # set model id to SD 2.1\n",
    "    model_id = \"stabilityai/stable-diffusion-2-1\"\n",
    "    # starts Diffusion Pipeline\n",
    "    pipe = StableDiffusionPipeline.from_pretrained(model_id, torch_dtype=torch.float16)\n",
    "    # sets method noise > image with base config\n",
    "    pipe.scheduler = DPMSolverMultistepScheduler.from_config(pipe.scheduler.config)\n",
    "    # sends pipeline to cuda\n",
    "    pipe = pipe.to(\"cuda\")\n",
    "    # prompts the image\n",
    "    image = pipe(prompt=prompt, guidance_scale=guidancescale, num_inference_steps=num_steps).images[0]\n",
    "    # saves the image\n",
    "    image.save(f'{filename}.png')\n",
    "    # returns so result is visable in notebook\n",
    "    return image"
   ]
  }
 ],
 "metadata": {
  "language_info": {
   "name": "python"
  },
  "orig_nbformat": 4
 },
 "nbformat": 4,
 "nbformat_minor": 2
}
